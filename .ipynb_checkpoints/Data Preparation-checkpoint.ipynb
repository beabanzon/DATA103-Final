{
 "cells": [
  {
   "cell_type": "code",
   "execution_count": 2,
   "id": "af6f98cf-f50d-486d-ac51-3cdd773794c3",
   "metadata": {},
   "outputs": [],
   "source": [
    "from os import listdir\n",
    "import openpyxl as oxl\n",
    "\n",
    "import pandas as pd\n",
    "import datetime\n",
    "import holidays"
   ]
  },
  {
   "cell_type": "code",
   "execution_count": 3,
   "id": "745b93ee-6fc5-4509-bb1b-d932eb2cb473",
   "metadata": {},
   "outputs": [],
   "source": [
    "PH_HOLIDAYS = holidays.country_holidays('Philippines')"
   ]
  },
  {
   "cell_type": "code",
   "execution_count": 4,
   "id": "a2fb8624-f3d8-497b-9ed1-a5fe36e93280",
   "metadata": {},
   "outputs": [],
   "source": [
    "files = listdir(path=\"MTR Datasets\")"
   ]
  },
  {
   "cell_type": "code",
   "execution_count": 5,
   "id": "c6113f7b-f817-44be-bc3e-d8a36b393fcd",
   "metadata": {},
   "outputs": [],
   "source": [
    "def saveDf(df, year, month):\n",
    "    filePath = 'MTR Parsed/' + str(year) + ('_0' if (month < 10) else '_') + str(month) + ' .csv' \n",
    "    df.to_csv(filePath)"
   ]
  },
  {
   "cell_type": "code",
   "execution_count": 6,
   "id": "f043e069-21a4-4216-bdc3-1abb10edfbdb",
   "metadata": {
    "jupyter": {
     "source_hidden": true
    }
   },
   "outputs": [],
   "source": [
    "def readSheet(workbook):\n",
    "    sheet = workbook['Daily']\n",
    "    STATION_NAMES = ['North Ave', 'Quezon Ave', 'GMA Kamuning', 'Cubao'\t, 'Santolan', 'Ortigas', 'Shaw Blvd', 'Boni Ave', 'Guadalupe', 'Buendia', 'Ayala Ave', 'Magallanes', 'Taft']\n",
    "    \n",
    "    _date = None\n",
    "    \n",
    "    df = pd.DataFrame(columns=['Date', 'Time', 'Station_Name', 'Station_No', 'Entry', 'Exit', 'Net_Traffic', 'Year', 'Month', 'Day', 'Hour', 'Weekday', 'Is_Holiday'])\n",
    "\n",
    "    # READ EACH ROW\n",
    "    for r in range(5, sheet.max_row):\n",
    "        cell = sheet[r][0]\n",
    "\n",
    "        # IGNORE ROWS\n",
    "        if cell.value is None or cell.value == 'TIME':\n",
    "            continue;\n",
    "            \n",
    "        # STORE DATE\n",
    "        if _date is None and cell.is_date:\n",
    "            if cell.value.date().strftime(\"%B\") != MONTH_CHECK:\n",
    "                break;\n",
    "        \n",
    "            _date = cell.value.date()\n",
    "            _year = _date.year\n",
    "            _month = _date.month\n",
    "            _day = _date.day\n",
    "            _weekday = _date.weekday()\n",
    "            _isHoliday = _date in PH_HOLIDAYS\n",
    "    \n",
    "            _hour = 3\n",
    "            print(_date)\n",
    "\n",
    "        \n",
    "        # CLEAR AT END OF RECORD\n",
    "        elif cell.value == 'TOTAL':\n",
    "            _date = None\n",
    "    \n",
    "        # ADD STATION RECORDS TO DATAFRAME\n",
    "        else:\n",
    "            for c in range(1, 26, 2):\n",
    "                _entry = sheet[r][c].value    if sheet[r][c].value is not None      else 0 \n",
    "                _exit = sheet[r][c+1].value   if sheet[r][c+1].value is not None    else 0\n",
    "                _net = _entry + _exit\n",
    "                \n",
    "                df.loc[len(df.index)] = [\n",
    "                    _date,                                   # 'Date', \n",
    "                    cell.value,                              # 'Time', \n",
    "                    STATION_NAMES[c//2],                     # 'Station_Name', \n",
    "                    c//2,                                    # 'Station_No', \n",
    "                    _entry,                                  # 'Entry', \n",
    "                    _exit,                                   # 'Exit', \n",
    "                    _net,                                    # Net Traffic\n",
    "                    _year,                                   # 'Year', \n",
    "                    _month,                                  # 'Month', \n",
    "                    _day,                                    # 'Day', \n",
    "                    _hour,                                   # 'Hour', \n",
    "                    _weekday,                                # 'Weekday', \n",
    "                    _isHoliday                               # 'Is_Holiday'\n",
    "                ]\n",
    "            _hour = 1 + _hour;\n",
    "            _hour = _hour % 24;\n",
    "    saveDf(df, _year, _month);\n",
    "\n",
    "    # return df;"
   ]
  },
  {
   "cell_type": "code",
   "execution_count": 9,
   "id": "7c8447f6-3366-4ef7-8895-7167045cc787",
   "metadata": {
    "scrolled": true
   },
   "outputs": [
    {
     "name": "stdout",
     "output_type": "stream",
     "text": [
      "SEPTEMBER 2022 Summary by Hourly.xlsx\n"
     ]
    },
    {
     "name": "stderr",
     "output_type": "stream",
     "text": [
      "C:\\Users\\cmath\\AppData\\Local\\Programs\\Python\\Python310\\lib\\site-packages\\openpyxl\\reader\\drawings.py:63: UserWarning: wmf image format is not supported so the image is being dropped\n",
      "  warn(msg)\n"
     ]
    },
    {
     "name": "stdout",
     "output_type": "stream",
     "text": [
      "2022-09-01\n",
      "2022-09-02\n",
      "2022-09-03\n",
      "2022-09-04\n",
      "2022-09-05\n",
      "2022-09-06\n",
      "2022-09-07\n",
      "2022-09-08\n",
      "2022-09-09\n",
      "2022-09-10\n",
      "2022-09-11\n",
      "2022-09-12\n",
      "2022-09-13\n",
      "2022-09-14\n",
      "2022-09-15\n",
      "2022-09-16\n",
      "2022-09-17\n",
      "2022-09-18\n",
      "2022-09-19\n",
      "2022-09-20\n",
      "2022-09-21\n",
      "2022-09-22\n",
      "2022-09-23\n",
      "2022-09-24\n",
      "2022-09-25\n",
      "2022-09-26\n",
      "2022-09-27\n",
      "2022-09-28\n",
      "2022-09-29\n",
      "2022-09-30\n",
      "SEPTEMBER 2023 Summary Hourly.xlsx\n"
     ]
    },
    {
     "name": "stderr",
     "output_type": "stream",
     "text": [
      "C:\\Users\\cmath\\AppData\\Local\\Programs\\Python\\Python310\\lib\\site-packages\\openpyxl\\reader\\drawings.py:63: UserWarning: wmf image format is not supported so the image is being dropped\n",
      "  warn(msg)\n"
     ]
    },
    {
     "name": "stdout",
     "output_type": "stream",
     "text": [
      "2023-09-01\n",
      "2023-09-02\n",
      "2023-09-03\n",
      "2023-09-04\n",
      "2023-09-05\n",
      "2023-09-06\n",
      "2023-09-07\n",
      "2023-09-08\n",
      "2023-09-09\n",
      "2023-09-10\n",
      "2023-09-11\n",
      "2023-09-12\n",
      "2023-09-13\n",
      "2023-09-14\n",
      "2023-09-15\n",
      "2023-09-16\n",
      "2023-09-17\n",
      "2023-09-18\n",
      "2023-09-19\n",
      "2023-09-20\n",
      "2023-09-21\n",
      "2023-09-22\n",
      "2023-09-23\n",
      "2023-09-24\n",
      "2023-09-25\n",
      "2023-09-26\n",
      "2023-09-27\n",
      "2023-09-28\n",
      "2023-09-29\n",
      "2023-09-30\n"
     ]
    }
   ],
   "source": [
    "# for fp in files[18:]:\n",
    "# for fp in files[44:]:\n",
    "for fp in files[-2:]:\n",
    "    print(fp)\n",
    "    currExcel = \"MTR Datasets/\" + fp; #\"MTR Datasets/APRIL 2021 Summary Hourly.xlsx\"\n",
    "    \n",
    "    MONTH_CHECK = currExcel.split('/')[1].split()[0].capitalize()\n",
    "    \n",
    "    workbook = oxl.load_workbook(currExcel, data_only=True)\n",
    "    \n",
    "    readSheet(workbook)"
   ]
  },
  {
   "cell_type": "code",
   "execution_count": 11,
   "id": "207d08c2-53ff-4128-b867-8fe000fc7ce5",
   "metadata": {},
   "outputs": [
    {
     "name": "stdout",
     "output_type": "stream",
     "text": [
      "NOVEMBER 2020 Summary Hourly (9).xlsx\n"
     ]
    },
    {
     "ename": "ValueError",
     "evalue": "Unable to read workbook: could not read stylesheet from MTR Datasets/NOVEMBER 2020 Summary Hourly (9).xlsx.\nThis is most probably because the workbook source files contain some invalid XML.\nPlease see the exception for more details.",
     "output_type": "error",
     "traceback": [
      "\u001b[1;31m---------------------------------------------------------------------------\u001b[0m",
      "\u001b[1;31mValueError\u001b[0m                                Traceback (most recent call last)",
      "File \u001b[1;32m~\\AppData\\Local\\Programs\\Python\\Python310\\lib\\site-packages\\openpyxl\\reader\\excel.py:299\u001b[0m, in \u001b[0;36mExcelReader.read\u001b[1;34m(self)\u001b[0m\n\u001b[0;32m    298\u001b[0m action \u001b[38;5;241m=\u001b[39m \u001b[38;5;124m\"\u001b[39m\u001b[38;5;124mread stylesheet\u001b[39m\u001b[38;5;124m\"\u001b[39m\n\u001b[1;32m--> 299\u001b[0m \u001b[43mapply_stylesheet\u001b[49m\u001b[43m(\u001b[49m\u001b[38;5;28;43mself\u001b[39;49m\u001b[38;5;241;43m.\u001b[39;49m\u001b[43marchive\u001b[49m\u001b[43m,\u001b[49m\u001b[43m \u001b[49m\u001b[38;5;28;43mself\u001b[39;49m\u001b[38;5;241;43m.\u001b[39;49m\u001b[43mwb\u001b[49m\u001b[43m)\u001b[49m\n\u001b[0;32m    300\u001b[0m action \u001b[38;5;241m=\u001b[39m \u001b[38;5;124m\"\u001b[39m\u001b[38;5;124mread worksheets\u001b[39m\u001b[38;5;124m\"\u001b[39m\n",
      "File \u001b[1;32m~\\AppData\\Local\\Programs\\Python\\Python310\\lib\\site-packages\\openpyxl\\styles\\stylesheet.py:198\u001b[0m, in \u001b[0;36mapply_stylesheet\u001b[1;34m(archive, wb)\u001b[0m\n\u001b[0;32m    197\u001b[0m node \u001b[38;5;241m=\u001b[39m fromstring(src)\n\u001b[1;32m--> 198\u001b[0m stylesheet \u001b[38;5;241m=\u001b[39m \u001b[43mStylesheet\u001b[49m\u001b[38;5;241;43m.\u001b[39;49m\u001b[43mfrom_tree\u001b[49m\u001b[43m(\u001b[49m\u001b[43mnode\u001b[49m\u001b[43m)\u001b[49m\n\u001b[0;32m    200\u001b[0m \u001b[38;5;28;01mif\u001b[39;00m stylesheet\u001b[38;5;241m.\u001b[39mcell_styles:\n",
      "File \u001b[1;32m~\\AppData\\Local\\Programs\\Python\\Python310\\lib\\site-packages\\openpyxl\\styles\\stylesheet.py:103\u001b[0m, in \u001b[0;36mStylesheet.from_tree\u001b[1;34m(cls, node)\u001b[0m\n\u001b[0;32m    102\u001b[0m     \u001b[38;5;28;01mdel\u001b[39;00m node\u001b[38;5;241m.\u001b[39mattrib[k]\n\u001b[1;32m--> 103\u001b[0m \u001b[38;5;28;01mreturn\u001b[39;00m \u001b[38;5;28;43msuper\u001b[39;49m\u001b[43m(\u001b[49m\u001b[43mStylesheet\u001b[49m\u001b[43m,\u001b[49m\u001b[43m \u001b[49m\u001b[38;5;28;43mcls\u001b[39;49m\u001b[43m)\u001b[49m\u001b[38;5;241;43m.\u001b[39;49m\u001b[43mfrom_tree\u001b[49m\u001b[43m(\u001b[49m\u001b[43mnode\u001b[49m\u001b[43m)\u001b[49m\n",
      "File \u001b[1;32m~\\AppData\\Local\\Programs\\Python\\Python310\\lib\\site-packages\\openpyxl\\descriptors\\serialisable.py:83\u001b[0m, in \u001b[0;36mSerialisable.from_tree\u001b[1;34m(cls, node)\u001b[0m\n\u001b[0;32m     81\u001b[0m \u001b[38;5;28;01mif\u001b[39;00m \u001b[38;5;28mhasattr\u001b[39m(desc, \u001b[38;5;124m'\u001b[39m\u001b[38;5;124mfrom_tree\u001b[39m\u001b[38;5;124m'\u001b[39m):\n\u001b[0;32m     82\u001b[0m     \u001b[38;5;66;03m#descriptor manages conversion\u001b[39;00m\n\u001b[1;32m---> 83\u001b[0m     obj \u001b[38;5;241m=\u001b[39m \u001b[43mdesc\u001b[49m\u001b[38;5;241;43m.\u001b[39;49m\u001b[43mfrom_tree\u001b[49m\u001b[43m(\u001b[49m\u001b[43mel\u001b[49m\u001b[43m)\u001b[49m\n\u001b[0;32m     84\u001b[0m \u001b[38;5;28;01melse\u001b[39;00m:\n",
      "File \u001b[1;32m~\\AppData\\Local\\Programs\\Python\\Python310\\lib\\site-packages\\openpyxl\\descriptors\\sequence.py:94\u001b[0m, in \u001b[0;36mNestedSequence.from_tree\u001b[1;34m(self, node)\u001b[0m\n\u001b[0;32m     93\u001b[0m \u001b[38;5;28;01mdef\u001b[39;00m \u001b[38;5;21mfrom_tree\u001b[39m(\u001b[38;5;28mself\u001b[39m, node):\n\u001b[1;32m---> 94\u001b[0m     \u001b[38;5;28;01mreturn\u001b[39;00m [\u001b[38;5;28mself\u001b[39m\u001b[38;5;241m.\u001b[39mexpected_type\u001b[38;5;241m.\u001b[39mfrom_tree(el) \u001b[38;5;28;01mfor\u001b[39;00m el \u001b[38;5;129;01min\u001b[39;00m node]\n",
      "File \u001b[1;32m~\\AppData\\Local\\Programs\\Python\\Python310\\lib\\site-packages\\openpyxl\\descriptors\\sequence.py:94\u001b[0m, in \u001b[0;36m<listcomp>\u001b[1;34m(.0)\u001b[0m\n\u001b[0;32m     93\u001b[0m \u001b[38;5;28;01mdef\u001b[39;00m \u001b[38;5;21mfrom_tree\u001b[39m(\u001b[38;5;28mself\u001b[39m, node):\n\u001b[1;32m---> 94\u001b[0m     \u001b[38;5;28;01mreturn\u001b[39;00m [\u001b[38;5;28;43mself\u001b[39;49m\u001b[38;5;241;43m.\u001b[39;49m\u001b[43mexpected_type\u001b[49m\u001b[38;5;241;43m.\u001b[39;49m\u001b[43mfrom_tree\u001b[49m\u001b[43m(\u001b[49m\u001b[43mel\u001b[49m\u001b[43m)\u001b[49m \u001b[38;5;28;01mfor\u001b[39;00m el \u001b[38;5;129;01min\u001b[39;00m node]\n",
      "File \u001b[1;32m~\\AppData\\Local\\Programs\\Python\\Python310\\lib\\site-packages\\openpyxl\\styles\\fonts.py:109\u001b[0m, in \u001b[0;36mFont.from_tree\u001b[1;34m(cls, node)\u001b[0m\n\u001b[0;32m    108\u001b[0m     underline\u001b[38;5;241m.\u001b[39mset(\u001b[38;5;124m\"\u001b[39m\u001b[38;5;124mval\u001b[39m\u001b[38;5;124m\"\u001b[39m, \u001b[38;5;124m\"\u001b[39m\u001b[38;5;124msingle\u001b[39m\u001b[38;5;124m\"\u001b[39m)\n\u001b[1;32m--> 109\u001b[0m \u001b[38;5;28;01mreturn\u001b[39;00m \u001b[38;5;28;43msuper\u001b[39;49m\u001b[43m(\u001b[49m\u001b[43mFont\u001b[49m\u001b[43m,\u001b[49m\u001b[43m \u001b[49m\u001b[38;5;28;43mcls\u001b[39;49m\u001b[43m)\u001b[49m\u001b[38;5;241;43m.\u001b[39;49m\u001b[43mfrom_tree\u001b[49m\u001b[43m(\u001b[49m\u001b[43mnode\u001b[49m\u001b[43m)\u001b[49m\n",
      "File \u001b[1;32m~\\AppData\\Local\\Programs\\Python\\Python310\\lib\\site-packages\\openpyxl\\descriptors\\serialisable.py:103\u001b[0m, in \u001b[0;36mSerialisable.from_tree\u001b[1;34m(cls, node)\u001b[0m\n\u001b[0;32m    101\u001b[0m         attrib[tag] \u001b[38;5;241m=\u001b[39m obj\n\u001b[1;32m--> 103\u001b[0m \u001b[38;5;28;01mreturn\u001b[39;00m \u001b[38;5;28mcls\u001b[39m(\u001b[38;5;241m*\u001b[39m\u001b[38;5;241m*\u001b[39mattrib)\n",
      "File \u001b[1;32m~\\AppData\\Local\\Programs\\Python\\Python310\\lib\\site-packages\\openpyxl\\styles\\fonts.py:75\u001b[0m, in \u001b[0;36mFont.__init__\u001b[1;34m(self, name, sz, b, i, charset, u, strike, color, scheme, family, size, bold, italic, strikethrough, underline, vertAlign, outline, shadow, condense, extend)\u001b[0m\n\u001b[0;32m     74\u001b[0m \u001b[38;5;28mself\u001b[39m\u001b[38;5;241m.\u001b[39mname \u001b[38;5;241m=\u001b[39m name\n\u001b[1;32m---> 75\u001b[0m \u001b[38;5;28;43mself\u001b[39;49m\u001b[38;5;241;43m.\u001b[39;49m\u001b[43mfamily\u001b[49m \u001b[38;5;241m=\u001b[39m family\n\u001b[0;32m     76\u001b[0m \u001b[38;5;28;01mif\u001b[39;00m size \u001b[38;5;129;01mis\u001b[39;00m \u001b[38;5;129;01mnot\u001b[39;00m \u001b[38;5;28;01mNone\u001b[39;00m:\n",
      "File \u001b[1;32m~\\AppData\\Local\\Programs\\Python\\Python310\\lib\\site-packages\\openpyxl\\descriptors\\nested.py:35\u001b[0m, in \u001b[0;36mNested.__set__\u001b[1;34m(self, instance, value)\u001b[0m\n\u001b[0;32m     34\u001b[0m     value \u001b[38;5;241m=\u001b[39m \u001b[38;5;28mself\u001b[39m\u001b[38;5;241m.\u001b[39mfrom_tree(value)\n\u001b[1;32m---> 35\u001b[0m \u001b[38;5;28;43msuper\u001b[39;49m\u001b[43m(\u001b[49m\u001b[43mNested\u001b[49m\u001b[43m,\u001b[49m\u001b[43m \u001b[49m\u001b[38;5;28;43mself\u001b[39;49m\u001b[43m)\u001b[49m\u001b[38;5;241;43m.\u001b[39;49m\u001b[38;5;21;43m__set__\u001b[39;49m\u001b[43m(\u001b[49m\u001b[43minstance\u001b[49m\u001b[43m,\u001b[49m\u001b[43m \u001b[49m\u001b[43mvalue\u001b[49m\u001b[43m)\u001b[49m\n",
      "File \u001b[1;32m~\\AppData\\Local\\Programs\\Python\\Python310\\lib\\site-packages\\openpyxl\\descriptors\\base.py:112\u001b[0m, in \u001b[0;36mMin.__set__\u001b[1;34m(self, instance, value)\u001b[0m\n\u001b[0;32m    111\u001b[0m         \u001b[38;5;28;01mraise\u001b[39;00m \u001b[38;5;167;01mValueError\u001b[39;00m(\u001b[38;5;124m'\u001b[39m\u001b[38;5;124mMin value is \u001b[39m\u001b[38;5;132;01m{0}\u001b[39;00m\u001b[38;5;124m'\u001b[39m\u001b[38;5;241m.\u001b[39mformat(\u001b[38;5;28mself\u001b[39m\u001b[38;5;241m.\u001b[39mmin))\n\u001b[1;32m--> 112\u001b[0m \u001b[38;5;28;43msuper\u001b[39;49m\u001b[43m(\u001b[49m\u001b[43mMin\u001b[49m\u001b[43m,\u001b[49m\u001b[43m \u001b[49m\u001b[38;5;28;43mself\u001b[39;49m\u001b[43m)\u001b[49m\u001b[38;5;241;43m.\u001b[39;49m\u001b[38;5;21;43m__set__\u001b[39;49m\u001b[43m(\u001b[49m\u001b[43minstance\u001b[49m\u001b[43m,\u001b[49m\u001b[43m \u001b[49m\u001b[43mvalue\u001b[49m\u001b[43m)\u001b[49m\n",
      "File \u001b[1;32m~\\AppData\\Local\\Programs\\Python\\Python310\\lib\\site-packages\\openpyxl\\descriptors\\base.py:91\u001b[0m, in \u001b[0;36mMax.__set__\u001b[1;34m(self, instance, value)\u001b[0m\n\u001b[0;32m     90\u001b[0m     \u001b[38;5;28;01mif\u001b[39;00m value \u001b[38;5;241m>\u001b[39m \u001b[38;5;28mself\u001b[39m\u001b[38;5;241m.\u001b[39mmax:\n\u001b[1;32m---> 91\u001b[0m         \u001b[38;5;28;01mraise\u001b[39;00m \u001b[38;5;167;01mValueError\u001b[39;00m(\u001b[38;5;124m'\u001b[39m\u001b[38;5;124mMax value is \u001b[39m\u001b[38;5;132;01m{0}\u001b[39;00m\u001b[38;5;124m'\u001b[39m\u001b[38;5;241m.\u001b[39mformat(\u001b[38;5;28mself\u001b[39m\u001b[38;5;241m.\u001b[39mmax))\n\u001b[0;32m     92\u001b[0m \u001b[38;5;28msuper\u001b[39m(Max, \u001b[38;5;28mself\u001b[39m)\u001b[38;5;241m.\u001b[39m\u001b[38;5;21m__set__\u001b[39m(instance, value)\n",
      "\u001b[1;31mValueError\u001b[0m: Max value is 14",
      "\nThe above exception was the direct cause of the following exception:\n",
      "\u001b[1;31mValueError\u001b[0m                                Traceback (most recent call last)",
      "Cell \u001b[1;32mIn[11], line 10\u001b[0m\n\u001b[0;32m      6\u001b[0m currExcel \u001b[38;5;241m=\u001b[39m \u001b[38;5;124m\"\u001b[39m\u001b[38;5;124mMTR Datasets/\u001b[39m\u001b[38;5;124m\"\u001b[39m \u001b[38;5;241m+\u001b[39m fp; \u001b[38;5;66;03m#\"MTR Datasets/APRIL 2021 Summary Hourly.xlsx\"\u001b[39;00m\n\u001b[0;32m      8\u001b[0m MONTH_CHECK \u001b[38;5;241m=\u001b[39m currExcel\u001b[38;5;241m.\u001b[39msplit(\u001b[38;5;124m'\u001b[39m\u001b[38;5;124m/\u001b[39m\u001b[38;5;124m'\u001b[39m)[\u001b[38;5;241m1\u001b[39m]\u001b[38;5;241m.\u001b[39msplit()[\u001b[38;5;241m0\u001b[39m]\u001b[38;5;241m.\u001b[39mcapitalize()\n\u001b[1;32m---> 10\u001b[0m workbook \u001b[38;5;241m=\u001b[39m \u001b[43moxl\u001b[49m\u001b[38;5;241;43m.\u001b[39;49m\u001b[43mload_workbook\u001b[49m\u001b[43m(\u001b[49m\u001b[43mcurrExcel\u001b[49m\u001b[43m,\u001b[49m\u001b[43m \u001b[49m\u001b[43mdata_only\u001b[49m\u001b[38;5;241;43m=\u001b[39;49m\u001b[38;5;28;43;01mTrue\u001b[39;49;00m\u001b[43m,\u001b[49m\u001b[43m \u001b[49m\u001b[43mread_only\u001b[49m\u001b[38;5;241;43m=\u001b[39;49m\u001b[38;5;28;43;01mTrue\u001b[39;49;00m\u001b[43m)\u001b[49m\n\u001b[0;32m     12\u001b[0m readSheet(workbook)\n",
      "File \u001b[1;32m~\\AppData\\Local\\Programs\\Python\\Python310\\lib\\site-packages\\openpyxl\\reader\\excel.py:346\u001b[0m, in \u001b[0;36mload_workbook\u001b[1;34m(filename, read_only, keep_vba, data_only, keep_links, rich_text)\u001b[0m\n\u001b[0;32m    316\u001b[0m \u001b[38;5;250m\u001b[39m\u001b[38;5;124;03m\"\"\"Open the given filename and return the workbook\u001b[39;00m\n\u001b[0;32m    317\u001b[0m \n\u001b[0;32m    318\u001b[0m \u001b[38;5;124;03m:param filename: the path to open or a file-like object\u001b[39;00m\n\u001b[1;32m   (...)\u001b[0m\n\u001b[0;32m    342\u001b[0m \n\u001b[0;32m    343\u001b[0m \u001b[38;5;124;03m\"\"\"\u001b[39;00m\n\u001b[0;32m    344\u001b[0m reader \u001b[38;5;241m=\u001b[39m ExcelReader(filename, read_only, keep_vba,\n\u001b[0;32m    345\u001b[0m                      data_only, keep_links, rich_text)\n\u001b[1;32m--> 346\u001b[0m \u001b[43mreader\u001b[49m\u001b[38;5;241;43m.\u001b[39;49m\u001b[43mread\u001b[49m\u001b[43m(\u001b[49m\u001b[43m)\u001b[49m\n\u001b[0;32m    347\u001b[0m \u001b[38;5;28;01mreturn\u001b[39;00m reader\u001b[38;5;241m.\u001b[39mwb\n",
      "File \u001b[1;32m~\\AppData\\Local\\Programs\\Python\\Python310\\lib\\site-packages\\openpyxl\\reader\\excel.py:307\u001b[0m, in \u001b[0;36mExcelReader.read\u001b[1;34m(self)\u001b[0m\n\u001b[0;32m    305\u001b[0m         \u001b[38;5;28mself\u001b[39m\u001b[38;5;241m.\u001b[39marchive\u001b[38;5;241m.\u001b[39mclose()\n\u001b[0;32m    306\u001b[0m \u001b[38;5;28;01mexcept\u001b[39;00m \u001b[38;5;167;01mValueError\u001b[39;00m \u001b[38;5;28;01mas\u001b[39;00m e:\n\u001b[1;32m--> 307\u001b[0m     \u001b[38;5;28;01mraise\u001b[39;00m \u001b[38;5;167;01mValueError\u001b[39;00m(\n\u001b[0;32m    308\u001b[0m         \u001b[38;5;124mf\u001b[39m\u001b[38;5;124m\"\u001b[39m\u001b[38;5;124mUnable to read workbook: could not \u001b[39m\u001b[38;5;132;01m{\u001b[39;00maction\u001b[38;5;132;01m}\u001b[39;00m\u001b[38;5;124m from \u001b[39m\u001b[38;5;132;01m{\u001b[39;00m\u001b[38;5;28mself\u001b[39m\u001b[38;5;241m.\u001b[39marchive\u001b[38;5;241m.\u001b[39mfilename\u001b[38;5;132;01m}\u001b[39;00m\u001b[38;5;124m.\u001b[39m\u001b[38;5;130;01m\\n\u001b[39;00m\u001b[38;5;124m\"\u001b[39m\n\u001b[0;32m    309\u001b[0m         \u001b[38;5;124m\"\u001b[39m\u001b[38;5;124mThis is most probably because the workbook source files contain some invalid XML.\u001b[39m\u001b[38;5;130;01m\\n\u001b[39;00m\u001b[38;5;124m\"\u001b[39m\n\u001b[0;32m    310\u001b[0m         \u001b[38;5;124m\"\u001b[39m\u001b[38;5;124mPlease see the exception for more details.\u001b[39m\u001b[38;5;124m\"\u001b[39m\n\u001b[0;32m    311\u001b[0m         ) \u001b[38;5;28;01mfrom\u001b[39;00m \u001b[38;5;21;01me\u001b[39;00m\n",
      "\u001b[1;31mValueError\u001b[0m: Unable to read workbook: could not read stylesheet from MTR Datasets/NOVEMBER 2020 Summary Hourly (9).xlsx.\nThis is most probably because the workbook source files contain some invalid XML.\nPlease see the exception for more details."
     ]
    }
   ],
   "source": [
    "# files[18:]\n",
    "# files[32]\n",
    "\n",
    "fp = files[43] \n",
    "print(fp)\n",
    "currExcel = \"MTR Datasets/\" + fp; #\"MTR Datasets/APRIL 2021 Summary Hourly.xlsx\"\n",
    "\n",
    "MONTH_CHECK = currExcel.split('/')[1].split()[0].capitalize()\n",
    "\n",
    "workbook = oxl.load_workbook(currExcel, data_only=True, read_only=True)\n",
    "\n",
    "readSheet(workbook)"
   ]
  },
  {
   "cell_type": "code",
   "execution_count": 10,
   "id": "713f4341-7214-4ac9-85ff-e16b4f9c8a4d",
   "metadata": {},
   "outputs": [
    {
     "data": {
      "text/plain": [
       "'NOVEMBER 2020 Summary Hourly (9).xlsx'"
      ]
     },
     "execution_count": 10,
     "metadata": {},
     "output_type": "execute_result"
    }
   ],
   "source": [
    "files[43]"
   ]
  }
 ],
 "metadata": {
  "kernelspec": {
   "display_name": "Python 3 (ipykernel)",
   "language": "python",
   "name": "python3"
  },
  "language_info": {
   "codemirror_mode": {
    "name": "ipython",
    "version": 3
   },
   "file_extension": ".py",
   "mimetype": "text/x-python",
   "name": "python",
   "nbconvert_exporter": "python",
   "pygments_lexer": "ipython3",
   "version": "3.10.10"
  }
 },
 "nbformat": 4,
 "nbformat_minor": 5
}
