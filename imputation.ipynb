{
 "cells": [
  {
   "cell_type": "code",
   "execution_count": 4,
   "metadata": {},
   "outputs": [],
   "source": [
    "# Libraries\n",
    "# DATA MANAGEMENT\n",
    "import pandas as pd\n",
    "import numpy as np\n",
    "from collections import Counter\n",
    "\n",
    "# VISUALIAZATION\n",
    "import matplotlib.pyplot as plt\n",
    "import plotly.express as px\n",
    "import plotly.graph_objects as go\n",
    "import plotly.io as pio\n",
    "from plotly.subplots import make_subplots\n",
    "\n",
    "# FILE SYSTEM\n",
    "from os import listdir"
   ]
  },
  {
   "cell_type": "code",
   "execution_count": 5,
   "metadata": {},
   "outputs": [],
   "source": [
    "def read_CSV_in_years(YEARS = ('2019', '2020', '2021', '2022', '2023')):\n",
    "    '''\n",
    "    Parameters\n",
    "    -----------\n",
    "    YEARS        : Years to include/open.\n",
    "\n",
    "    Parameters\n",
    "    -----------\n",
    "    Opens all the MRT train csv files within the provided years.\n",
    "    Call cleanCSV() to open, clean, and return a dataframe.\n",
    "\n",
    "    Return   \n",
    "    ------------\n",
    "    pd.Dataframe : All the cleaned CSVs compiled into a single dataframe.\n",
    "    '''\n",
    "    compiled_df = []\n",
    "    FILES = listdir('MTR Parsed')\n",
    "\n",
    "    # OPEN AND STORE ALL THE TARGET CSV FILES\n",
    "    for fileName in FILES:\n",
    "        if fileName[-4:] == '.csv' and fileName[:4] in YEARS:\n",
    "            compiled_df.append(clean_CSV(fileName))\n",
    "    \n",
    "    return pd.concat(compiled_df)"
   ]
  },
  {
   "cell_type": "code",
   "execution_count": 6,
   "metadata": {},
   "outputs": [],
   "source": [
    "def clean_CSV(fileName, min_traffic_threshold = 0):\n",
    "    '''\n",
    "    Parameters\n",
    "    -----------\n",
    "    fileName               : String name of the .csv file.\n",
    "    min_traffic_threshold  : Stations records with daily traffic below the threshold will be dropped.\n",
    "\n",
    "    Parameters\n",
    "    -----------\n",
    "    Open the csv file and drop all records of stations with little/no activity for the entire day.\n",
    "\n",
    "    Return   \n",
    "    ------------\n",
    "    pd.Dataframe : The cleaned csv data.\n",
    "    '''\n",
    "    df = pd.read_csv('MTR Parsed/' + fileName)\n",
    "    # REMOVE INDEX COL\n",
    "    df = df.drop(df.columns[0], axis=1)\n",
    "\n",
    "    # CHECK THE TRAFFIC ACTIVITY OF PER STATION EVERYDAY \n",
    "    '''\n",
    "    activity_check = df[['Day', 'Station_No', 'Net_Traffic']]\n",
    "    activity_check = activity_check.groupby(['Day', 'Station_No']).sum()\n",
    "    \n",
    "    # KEEP ONLY THE STATION RECORDS THAT HAD ACTIVITY FOR THAT DAY\n",
    "    records_to_keep = activity_check[activity_check.values > min_traffic_threshold]\n",
    "    df = df.set_index(['Day', 'Station_No']).join(records_to_keep, lsuffix='' , rsuffix='_ActivityCheck')\n",
    "    df = df.dropna(axis=0)\n",
    "    df = df.rename(columns={df.columns[-1]:'Station_Total_Day_Traffic'})\n",
    "    '''\n",
    "    \n",
    "    df['Date'] = pd.to_datetime(df['Date'])\n",
    "    # df = df.reset_index()\n",
    "    \n",
    "    return df"
   ]
  },
  {
   "cell_type": "markdown",
   "metadata": {},
   "source": [
    "### Contents\n",
    "\n",
    "The data reflects a sorting order of...\n",
    "<ol>\n",
    "    <li>Date</li>\n",
    "    <li>Time</li>\n",
    "    <li>Station_No</li>\n",
    "</ol>"
   ]
  },
  {
   "cell_type": "code",
   "execution_count": 7,
   "metadata": {},
   "outputs": [
    {
     "data": {
      "text/html": [
       "<div>\n",
       "<style scoped>\n",
       "    .dataframe tbody tr th:only-of-type {\n",
       "        vertical-align: middle;\n",
       "    }\n",
       "\n",
       "    .dataframe tbody tr th {\n",
       "        vertical-align: top;\n",
       "    }\n",
       "\n",
       "    .dataframe thead th {\n",
       "        text-align: right;\n",
       "    }\n",
       "</style>\n",
       "<table border=\"1\" class=\"dataframe\">\n",
       "  <thead>\n",
       "    <tr style=\"text-align: right;\">\n",
       "      <th></th>\n",
       "      <th>Date</th>\n",
       "      <th>Time</th>\n",
       "      <th>Station_Name</th>\n",
       "      <th>Station_No</th>\n",
       "      <th>Entry</th>\n",
       "      <th>Exit</th>\n",
       "      <th>Net_Traffic</th>\n",
       "      <th>Year</th>\n",
       "      <th>Month</th>\n",
       "      <th>Day</th>\n",
       "      <th>Hour</th>\n",
       "      <th>Weekday</th>\n",
       "      <th>Is_Holiday</th>\n",
       "    </tr>\n",
       "  </thead>\n",
       "  <tbody>\n",
       "    <tr>\n",
       "      <th>531084</th>\n",
       "      <td>2023-12-31</td>\n",
       "      <td>02:00 - 02:59</td>\n",
       "      <td>Guadalupe</td>\n",
       "      <td>8</td>\n",
       "      <td>0</td>\n",
       "      <td>0.0</td>\n",
       "      <td>0.0</td>\n",
       "      <td>2023</td>\n",
       "      <td>12</td>\n",
       "      <td>31</td>\n",
       "      <td>2</td>\n",
       "      <td>6</td>\n",
       "      <td>True</td>\n",
       "    </tr>\n",
       "    <tr>\n",
       "      <th>531085</th>\n",
       "      <td>2023-12-31</td>\n",
       "      <td>02:00 - 02:59</td>\n",
       "      <td>Buendia</td>\n",
       "      <td>9</td>\n",
       "      <td>0</td>\n",
       "      <td>0.0</td>\n",
       "      <td>0.0</td>\n",
       "      <td>2023</td>\n",
       "      <td>12</td>\n",
       "      <td>31</td>\n",
       "      <td>2</td>\n",
       "      <td>6</td>\n",
       "      <td>True</td>\n",
       "    </tr>\n",
       "    <tr>\n",
       "      <th>531086</th>\n",
       "      <td>2023-12-31</td>\n",
       "      <td>02:00 - 02:59</td>\n",
       "      <td>Ayala Ave</td>\n",
       "      <td>10</td>\n",
       "      <td>0</td>\n",
       "      <td>0.0</td>\n",
       "      <td>0.0</td>\n",
       "      <td>2023</td>\n",
       "      <td>12</td>\n",
       "      <td>31</td>\n",
       "      <td>2</td>\n",
       "      <td>6</td>\n",
       "      <td>True</td>\n",
       "    </tr>\n",
       "    <tr>\n",
       "      <th>531087</th>\n",
       "      <td>2023-12-31</td>\n",
       "      <td>02:00 - 02:59</td>\n",
       "      <td>Magallanes</td>\n",
       "      <td>11</td>\n",
       "      <td>0</td>\n",
       "      <td>0.0</td>\n",
       "      <td>0.0</td>\n",
       "      <td>2023</td>\n",
       "      <td>12</td>\n",
       "      <td>31</td>\n",
       "      <td>2</td>\n",
       "      <td>6</td>\n",
       "      <td>True</td>\n",
       "    </tr>\n",
       "    <tr>\n",
       "      <th>531088</th>\n",
       "      <td>2023-12-31</td>\n",
       "      <td>02:00 - 02:59</td>\n",
       "      <td>Taft</td>\n",
       "      <td>12</td>\n",
       "      <td>0</td>\n",
       "      <td>0.0</td>\n",
       "      <td>0.0</td>\n",
       "      <td>2023</td>\n",
       "      <td>12</td>\n",
       "      <td>31</td>\n",
       "      <td>2</td>\n",
       "      <td>6</td>\n",
       "      <td>True</td>\n",
       "    </tr>\n",
       "  </tbody>\n",
       "</table>\n",
       "</div>"
      ],
      "text/plain": [
       "             Date           Time Station_Name  Station_No  Entry  Exit  \\\n",
       "531084 2023-12-31  02:00 - 02:59    Guadalupe           8      0   0.0   \n",
       "531085 2023-12-31  02:00 - 02:59      Buendia           9      0   0.0   \n",
       "531086 2023-12-31  02:00 - 02:59    Ayala Ave          10      0   0.0   \n",
       "531087 2023-12-31  02:00 - 02:59   Magallanes          11      0   0.0   \n",
       "531088 2023-12-31  02:00 - 02:59         Taft          12      0   0.0   \n",
       "\n",
       "        Net_Traffic  Year  Month  Day  Hour  Weekday  Is_Holiday  \n",
       "531084          0.0  2023     12   31     2        6        True  \n",
       "531085          0.0  2023     12   31     2        6        True  \n",
       "531086          0.0  2023     12   31     2        6        True  \n",
       "531087          0.0  2023     12   31     2        6        True  \n",
       "531088          0.0  2023     12   31     2        6        True  "
      ]
     },
     "execution_count": 7,
     "metadata": {},
     "output_type": "execute_result"
    }
   ],
   "source": [
    "df = read_CSV_in_years()\n",
    "\n",
    "# RESET THE INDEX SINCE THERE WERE MULTPLE CSV FILES COMBINED, THUS DUPLICATION OF INDICES\n",
    "df = df.reset_index().drop(columns='index')\n",
    "df.tail()"
   ]
  },
  {
   "cell_type": "code",
   "execution_count": 8,
   "metadata": {},
   "outputs": [
    {
     "name": "stdout",
     "output_type": "stream",
     "text": [
      "Entries: (531089, 13)\n"
     ]
    }
   ],
   "source": [
    "print(f'Entries: {df.shape}')"
   ]
  },
  {
   "cell_type": "code",
   "execution_count": 9,
   "metadata": {},
   "outputs": [
    {
     "data": {
      "text/plain": [
       "Date            False\n",
       "Time            False\n",
       "Station_Name    False\n",
       "Station_No      False\n",
       "Entry           False\n",
       "Exit            False\n",
       "Net_Traffic     False\n",
       "Year            False\n",
       "Month           False\n",
       "Day             False\n",
       "Hour            False\n",
       "Weekday         False\n",
       "Is_Holiday      False\n",
       "dtype: bool"
      ]
     },
     "execution_count": 9,
     "metadata": {},
     "output_type": "execute_result"
    }
   ],
   "source": [
    "df.isnull().any()"
   ]
  },
  {
   "cell_type": "markdown",
   "metadata": {},
   "source": [
    "# Feature modification"
   ]
  },
  {
   "cell_type": "code",
   "execution_count": 10,
   "metadata": {},
   "outputs": [],
   "source": [
    "def convertToString(num : int):\n",
    "    if(num < 10):\n",
    "        return '0' + str(num)\n",
    "    else:\n",
    "        return str(num)\n",
    "\n",
    "def joinNumsToString(df : pd.DataFrame, cols : list[str], separator = '_'):\n",
    "    colName = cols[0] + separator + cols[1]\n",
    "    df[colName] = df[cols[0]].apply(lambda x: convertToString(x)) +  separator + df[cols[1]].apply(lambda x: convertToString(x))"
   ]
  },
  {
   "cell_type": "markdown",
   "metadata": {},
   "source": [
    "#### Timeseries string pairing\n",
    "Optional step to better graph timeseries data. "
   ]
  },
  {
   "cell_type": "code",
   "execution_count": 11,
   "metadata": {},
   "outputs": [],
   "source": [
    "joinNumsToString(df, ['Year', 'Month'])\n",
    "joinNumsToString(df, ['Month', 'Hour'])\n",
    "joinNumsToString(df, ['Weekday', 'Hour'])\n",
    "joinNumsToString(df, ['Day', 'Hour'])"
   ]
  },
  {
   "cell_type": "code",
   "execution_count": 12,
   "metadata": {},
   "outputs": [],
   "source": [
    "# Change Mon -> Sun range to 1 -> 7\n",
    "df['Weekday'] += 1"
   ]
  },
  {
   "cell_type": "markdown",
   "metadata": {},
   "source": [
    "# Incomplete records\n",
    "### Dropping `Exit` and `Net_Traffic`\n",
    "The data provided by MTR is acknowledged to be incomplete. Notes were left inside the xlsx files often marking that `Entry` was correct as opposed to `Exit`. \n",
    "\n",
    "The graphs below show that there was nearly always greater `Entry` than `Exit`. <br>\n",
    "Subtracting the 2, does not result in a zero difference, rather it is seen that the difference inidcates there is significantly more entries recorded.<br>\n",
    "Extreme outliers are also present hence utilizing a single metric instead of both will be the ideal approach.\n",
    "\n",
    "### To maintain consistency, `Entry` will be the label/value used henceforth"
   ]
  },
  {
   "cell_type": "code",
   "execution_count": 13,
   "metadata": {},
   "outputs": [],
   "source": [
    "df.drop(columns=['Exit', 'Net_Traffic'], inplace=True)"
   ]
  },
  {
   "cell_type": "markdown",
   "metadata": {},
   "source": [
    "# Optimize formats\n",
    "Safe to lower the int64 and float64 formats. They are within int16 range and entry rate are whole numbers.\n",
    "\n",
    "This reduces memory usage from original 67.3 MB to ~35MB"
   ]
  },
  {
   "cell_type": "code",
   "execution_count": 14,
   "metadata": {},
   "outputs": [
    {
     "data": {
      "text/plain": [
       "Station_No      12\n",
       "Entry         7445\n",
       "Year          2023\n",
       "Month           12\n",
       "Day             31\n",
       "Hour            23\n",
       "Weekday          7\n",
       "dtype: int64"
      ]
     },
     "execution_count": 14,
     "metadata": {},
     "output_type": "execute_result"
    }
   ],
   "source": [
    "convertCols = df.select_dtypes(['int', 'float']).columns\n",
    "df[convertCols].max()"
   ]
  },
  {
   "cell_type": "code",
   "execution_count": 15,
   "metadata": {},
   "outputs": [
    {
     "name": "stdout",
     "output_type": "stream",
     "text": [
      "<class 'pandas.core.frame.DataFrame'>\n",
      "RangeIndex: 531089 entries, 0 to 531088\n",
      "Data columns (total 15 columns):\n",
      " #   Column        Non-Null Count   Dtype         \n",
      "---  ------        --------------   -----         \n",
      " 0   Date          531089 non-null  datetime64[ns]\n",
      " 1   Time          531089 non-null  object        \n",
      " 2   Station_Name  531089 non-null  object        \n",
      " 3   Station_No    531089 non-null  int8          \n",
      " 4   Entry         531089 non-null  int16         \n",
      " 5   Year          531089 non-null  int16         \n",
      " 6   Month         531089 non-null  int8          \n",
      " 7   Day           531089 non-null  int8          \n",
      " 8   Hour          531089 non-null  int8          \n",
      " 9   Weekday       531089 non-null  int8          \n",
      " 10  Is_Holiday    531089 non-null  bool          \n",
      " 11  Year_Month    531089 non-null  object        \n",
      " 12  Month_Hour    531089 non-null  object        \n",
      " 13  Weekday_Hour  531089 non-null  object        \n",
      " 14  Day_Hour      531089 non-null  object        \n",
      "dtypes: bool(1), datetime64[ns](1), int16(2), int8(5), object(6)\n",
      "memory usage: 33.4+ MB\n"
     ]
    }
   ],
   "source": [
    "for col in convertCols:\n",
    "    if df[col].max() <= 127:\n",
    "        df[col] = df[col].astype('int8')\n",
    "    elif df[col].max() <= 32767:\n",
    "        df[col] = df[col].astype('int16')\n",
    "    else:\n",
    "        print(f\"{col} data out of range\")\n",
    "        assert False\n",
    "        \n",
    "df.info()"
   ]
  },
  {
   "cell_type": "markdown",
   "metadata": {},
   "source": [
    "# Data Cleaning and Preprocessing"
   ]
  },
  {
   "cell_type": "markdown",
   "metadata": {},
   "source": [
    "## Splicing to only Post-COVID Years [2022, 2023]\n",
    "### Use `df_splice` from here onwards\n",
    "To keep data relevant, we will be utilizing the post COVID records as there are still over 220,000 hourly records."
   ]
  },
  {
   "cell_type": "code",
   "execution_count": 16,
   "metadata": {},
   "outputs": [
    {
     "data": {
      "text/html": [
       "<div>\n",
       "<style scoped>\n",
       "    .dataframe tbody tr th:only-of-type {\n",
       "        vertical-align: middle;\n",
       "    }\n",
       "\n",
       "    .dataframe tbody tr th {\n",
       "        vertical-align: top;\n",
       "    }\n",
       "\n",
       "    .dataframe thead th {\n",
       "        text-align: right;\n",
       "    }\n",
       "</style>\n",
       "<table border=\"1\" class=\"dataframe\">\n",
       "  <thead>\n",
       "    <tr style=\"text-align: right;\">\n",
       "      <th></th>\n",
       "      <th>Number of Data Points</th>\n",
       "      <th>Percentage</th>\n",
       "    </tr>\n",
       "    <tr>\n",
       "      <th>Year</th>\n",
       "      <th></th>\n",
       "      <th></th>\n",
       "    </tr>\n",
       "  </thead>\n",
       "  <tbody>\n",
       "    <tr>\n",
       "      <th>2019</th>\n",
       "      <td>105144</td>\n",
       "      <td>0.197978</td>\n",
       "    </tr>\n",
       "    <tr>\n",
       "      <th>2020</th>\n",
       "      <td>84305</td>\n",
       "      <td>0.158740</td>\n",
       "    </tr>\n",
       "    <tr>\n",
       "      <th>2021</th>\n",
       "      <td>113880</td>\n",
       "      <td>0.214427</td>\n",
       "    </tr>\n",
       "    <tr>\n",
       "      <th>2022</th>\n",
       "      <td>113880</td>\n",
       "      <td>0.214427</td>\n",
       "    </tr>\n",
       "    <tr>\n",
       "      <th>2023</th>\n",
       "      <td>113880</td>\n",
       "      <td>0.214427</td>\n",
       "    </tr>\n",
       "  </tbody>\n",
       "</table>\n",
       "</div>"
      ],
      "text/plain": [
       "      Number of Data Points  Percentage\n",
       "Year                                   \n",
       "2019                 105144    0.197978\n",
       "2020                  84305    0.158740\n",
       "2021                 113880    0.214427\n",
       "2022                 113880    0.214427\n",
       "2023                 113880    0.214427"
      ]
     },
     "execution_count": 16,
     "metadata": {},
     "output_type": "execute_result"
    }
   ],
   "source": [
    "composition = df.groupby('Year').count()\n",
    "composition['Percentage'] = composition.iloc[:,1] / composition.iloc[:,1].sum()\n",
    "composition.rename(columns={\"Time\":\"Number of Data Points\"}, inplace=True)\n",
    "composition[['Number of Data Points', 'Percentage']]"
   ]
  },
  {
   "cell_type": "code",
   "execution_count": 17,
   "metadata": {},
   "outputs": [
    {
     "data": {
      "text/plain": [
       "(227760, 15)"
      ]
     },
     "execution_count": 17,
     "metadata": {},
     "output_type": "execute_result"
    }
   ],
   "source": [
    "df_splice = df[df['Year'] >= 2022].copy()\n",
    "df_splice = df_splice.reset_index().drop(columns='index')\n",
    "\n",
    "df_splice.shape"
   ]
  },
  {
   "cell_type": "markdown",
   "metadata": {},
   "source": [
    "## Excluding MRT Maintenance days\n",
    "\n",
    "Scheduled maintanance periods will be excluded from `empty_records`. It will not be imputed to preserve that 0 values for the period.\n",
    "\n",
    "<li><a href=https://primer.com.ph/blog/2022/03/18/dotr-mrt-3-to-pause-operation-during-holy-week-2022/>April 13-17, 2022</a></li>\n",
    "<li><a href=https://www.philstar.com/headlines/2023/04/04/2256862/list-mrt-lrt-and-pnr-schedules-during-holy-week-2023#:~:text=%22To%20give%20way%20to%20the,April%206%20until%20April%209%2C>April 6-9, 2023</a></li>"
   ]
  },
  {
   "cell_type": "code",
   "execution_count": 26,
   "metadata": {},
   "outputs": [
    {
     "name": "stdout",
     "output_type": "stream",
     "text": [
      "<class 'pandas.core.frame.DataFrame'>\n",
      "RangeIndex: 227760 entries, 0 to 227759\n",
      "Data columns (total 15 columns):\n",
      " #   Column        Non-Null Count   Dtype         \n",
      "---  ------        --------------   -----         \n",
      " 0   Date          227760 non-null  datetime64[ns]\n",
      " 1   Time          227760 non-null  object        \n",
      " 2   Station_Name  227760 non-null  object        \n",
      " 3   Station_No    227760 non-null  int8          \n",
      " 4   Entry         227760 non-null  int16         \n",
      " 5   Year          227760 non-null  int16         \n",
      " 6   Month         227760 non-null  int8          \n",
      " 7   Day           227760 non-null  int8          \n",
      " 8   Hour          227760 non-null  int8          \n",
      " 9   Weekday       227760 non-null  int8          \n",
      " 10  Is_Holiday    227760 non-null  bool          \n",
      " 11  Year_Month    227760 non-null  object        \n",
      " 12  Month_Hour    227760 non-null  object        \n",
      " 13  Weekday_Hour  227760 non-null  object        \n",
      " 14  Day_Hour      227760 non-null  object        \n",
      "dtypes: bool(1), datetime64[ns](1), int16(2), int8(5), object(6)\n",
      "memory usage: 14.3+ MB\n",
      "None\n"
     ]
    }
   ],
   "source": [
    "print(df_splice.info())\n",
    "# print(df_splice.Hour.unique())"
   ]
  },
  {
   "cell_type": "code",
   "execution_count": 30,
   "metadata": {},
   "outputs": [
    {
     "data": {
      "text/html": [
       "<div>\n",
       "<style scoped>\n",
       "    .dataframe tbody tr th:only-of-type {\n",
       "        vertical-align: middle;\n",
       "    }\n",
       "\n",
       "    .dataframe tbody tr th {\n",
       "        vertical-align: top;\n",
       "    }\n",
       "\n",
       "    .dataframe thead th {\n",
       "        text-align: right;\n",
       "    }\n",
       "</style>\n",
       "<table border=\"1\" class=\"dataframe\">\n",
       "  <thead>\n",
       "    <tr style=\"text-align: right;\">\n",
       "      <th></th>\n",
       "      <th>Date</th>\n",
       "      <th>Time</th>\n",
       "      <th>Station_Name</th>\n",
       "      <th>Station_No</th>\n",
       "      <th>Entry</th>\n",
       "      <th>Year</th>\n",
       "      <th>Month</th>\n",
       "      <th>Day</th>\n",
       "      <th>Hour</th>\n",
       "      <th>Weekday</th>\n",
       "      <th>Is_Holiday</th>\n",
       "      <th>Year_Month</th>\n",
       "      <th>Month_Hour</th>\n",
       "      <th>Weekday_Hour</th>\n",
       "      <th>Day_Hour</th>\n",
       "    </tr>\n",
       "  </thead>\n",
       "  <tbody>\n",
       "    <tr>\n",
       "      <th>227716</th>\n",
       "      <td>2023-12-31</td>\n",
       "      <td>23:00 - 23:59</td>\n",
       "      <td>Guadalupe</td>\n",
       "      <td>8</td>\n",
       "      <td>0</td>\n",
       "      <td>2023</td>\n",
       "      <td>12</td>\n",
       "      <td>31</td>\n",
       "      <td>23</td>\n",
       "      <td>7</td>\n",
       "      <td>True</td>\n",
       "      <td>2023_12</td>\n",
       "      <td>12_23</td>\n",
       "      <td>06_23</td>\n",
       "      <td>31_23</td>\n",
       "    </tr>\n",
       "    <tr>\n",
       "      <th>227717</th>\n",
       "      <td>2023-12-31</td>\n",
       "      <td>23:00 - 23:59</td>\n",
       "      <td>Buendia</td>\n",
       "      <td>9</td>\n",
       "      <td>0</td>\n",
       "      <td>2023</td>\n",
       "      <td>12</td>\n",
       "      <td>31</td>\n",
       "      <td>23</td>\n",
       "      <td>7</td>\n",
       "      <td>True</td>\n",
       "      <td>2023_12</td>\n",
       "      <td>12_23</td>\n",
       "      <td>06_23</td>\n",
       "      <td>31_23</td>\n",
       "    </tr>\n",
       "    <tr>\n",
       "      <th>227718</th>\n",
       "      <td>2023-12-31</td>\n",
       "      <td>23:00 - 23:59</td>\n",
       "      <td>Ayala Ave</td>\n",
       "      <td>10</td>\n",
       "      <td>0</td>\n",
       "      <td>2023</td>\n",
       "      <td>12</td>\n",
       "      <td>31</td>\n",
       "      <td>23</td>\n",
       "      <td>7</td>\n",
       "      <td>True</td>\n",
       "      <td>2023_12</td>\n",
       "      <td>12_23</td>\n",
       "      <td>06_23</td>\n",
       "      <td>31_23</td>\n",
       "    </tr>\n",
       "    <tr>\n",
       "      <th>227719</th>\n",
       "      <td>2023-12-31</td>\n",
       "      <td>23:00 - 23:59</td>\n",
       "      <td>Magallanes</td>\n",
       "      <td>11</td>\n",
       "      <td>0</td>\n",
       "      <td>2023</td>\n",
       "      <td>12</td>\n",
       "      <td>31</td>\n",
       "      <td>23</td>\n",
       "      <td>7</td>\n",
       "      <td>True</td>\n",
       "      <td>2023_12</td>\n",
       "      <td>12_23</td>\n",
       "      <td>06_23</td>\n",
       "      <td>31_23</td>\n",
       "    </tr>\n",
       "    <tr>\n",
       "      <th>227720</th>\n",
       "      <td>2023-12-31</td>\n",
       "      <td>23:00 - 23:59</td>\n",
       "      <td>Taft</td>\n",
       "      <td>12</td>\n",
       "      <td>0</td>\n",
       "      <td>2023</td>\n",
       "      <td>12</td>\n",
       "      <td>31</td>\n",
       "      <td>23</td>\n",
       "      <td>7</td>\n",
       "      <td>True</td>\n",
       "      <td>2023_12</td>\n",
       "      <td>12_23</td>\n",
       "      <td>06_23</td>\n",
       "      <td>31_23</td>\n",
       "    </tr>\n",
       "  </tbody>\n",
       "</table>\n",
       "</div>"
      ],
      "text/plain": [
       "             Date           Time Station_Name  Station_No  Entry  Year  Month  \\\n",
       "227716 2023-12-31  23:00 - 23:59    Guadalupe           8      0  2023     12   \n",
       "227717 2023-12-31  23:00 - 23:59      Buendia           9      0  2023     12   \n",
       "227718 2023-12-31  23:00 - 23:59    Ayala Ave          10      0  2023     12   \n",
       "227719 2023-12-31  23:00 - 23:59   Magallanes          11      0  2023     12   \n",
       "227720 2023-12-31  23:00 - 23:59         Taft          12      0  2023     12   \n",
       "\n",
       "        Day  Hour  Weekday  Is_Holiday Year_Month Month_Hour Weekday_Hour  \\\n",
       "227716   31    23        7        True    2023_12      12_23        06_23   \n",
       "227717   31    23        7        True    2023_12      12_23        06_23   \n",
       "227718   31    23        7        True    2023_12      12_23        06_23   \n",
       "227719   31    23        7        True    2023_12      12_23        06_23   \n",
       "227720   31    23        7        True    2023_12      12_23        06_23   \n",
       "\n",
       "       Day_Hour  \n",
       "227716    31_23  \n",
       "227717    31_23  \n",
       "227718    31_23  \n",
       "227719    31_23  \n",
       "227720    31_23  "
      ]
     },
     "execution_count": 30,
     "metadata": {},
     "output_type": "execute_result"
    }
   ],
   "source": [
    "'''\n",
    "1. Impute rows from 4am to 11pm (where entry is zero)\n",
    "where Hour >= 0 & Hour  <= 3 \n",
    "where Entry = 0 \n",
    "\n",
    "2. Exclude April 13-17 2022 and April 6-9 2023\n",
    "where Date < 2022-04-13 & Date > 2022-04-17\n",
    "where Date < 2023-04-06 & Date > 2023-04-09\n",
    "'''\n",
    "\n",
    "df_to_impute = df_splice[~(df_splice.Hour.between(0,3)) & (df_splice.Entry == 0) & ~(df_splice.Date.between('2022-04-13', '2022-04-17')) & ~(df_splice.Date.between('2023-04-06', '2023-04-09'))]\n",
    "df_to_impute.tail()"
   ]
  },
  {
   "cell_type": "code",
   "execution_count": null,
   "metadata": {},
   "outputs": [],
   "source": []
  }
 ],
 "metadata": {
  "kernelspec": {
   "display_name": "base",
   "language": "python",
   "name": "python3"
  },
  "language_info": {
   "codemirror_mode": {
    "name": "ipython",
    "version": 3
   },
   "file_extension": ".py",
   "mimetype": "text/x-python",
   "name": "python",
   "nbconvert_exporter": "python",
   "pygments_lexer": "ipython3",
   "version": "3.9.13"
  }
 },
 "nbformat": 4,
 "nbformat_minor": 2
}
