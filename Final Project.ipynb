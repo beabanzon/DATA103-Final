{
 "cells": [
  {
   "cell_type": "code",
   "execution_count": 4,
   "id": "44df0df1-a07c-4473-b32d-6175865e5ea2",
   "metadata": {},
   "outputs": [
    {
     "data": {
      "text/html": [
       "<div>\n",
       "<style scoped>\n",
       "    .dataframe tbody tr th:only-of-type {\n",
       "        vertical-align: middle;\n",
       "    }\n",
       "\n",
       "    .dataframe tbody tr th {\n",
       "        vertical-align: top;\n",
       "    }\n",
       "\n",
       "    .dataframe thead th {\n",
       "        text-align: right;\n",
       "    }\n",
       "</style>\n",
       "<table border=\"1\" class=\"dataframe\">\n",
       "  <thead>\n",
       "    <tr style=\"text-align: right;\">\n",
       "      <th></th>\n",
       "      <th>Unnamed: 0</th>\n",
       "      <th>Date</th>\n",
       "      <th>Time</th>\n",
       "      <th>Station</th>\n",
       "      <th>Entry</th>\n",
       "      <th>Exit</th>\n",
       "    </tr>\n",
       "  </thead>\n",
       "  <tbody>\n",
       "    <tr>\n",
       "      <th>0</th>\n",
       "      <td>0</td>\n",
       "      <td>2021-04-01</td>\n",
       "      <td>03:00 - 03:59</td>\n",
       "      <td>North Ave</td>\n",
       "      <td>NaN</td>\n",
       "      <td>NaN</td>\n",
       "    </tr>\n",
       "    <tr>\n",
       "      <th>1</th>\n",
       "      <td>1</td>\n",
       "      <td>2021-04-01</td>\n",
       "      <td>03:00 - 03:59</td>\n",
       "      <td>Quezon Ave</td>\n",
       "      <td>NaN</td>\n",
       "      <td>NaN</td>\n",
       "    </tr>\n",
       "    <tr>\n",
       "      <th>2</th>\n",
       "      <td>2</td>\n",
       "      <td>2021-04-01</td>\n",
       "      <td>03:00 - 03:59</td>\n",
       "      <td>GMA Kamuning</td>\n",
       "      <td>NaN</td>\n",
       "      <td>NaN</td>\n",
       "    </tr>\n",
       "    <tr>\n",
       "      <th>3</th>\n",
       "      <td>3</td>\n",
       "      <td>2021-04-01</td>\n",
       "      <td>03:00 - 03:59</td>\n",
       "      <td>Cubao</td>\n",
       "      <td>NaN</td>\n",
       "      <td>NaN</td>\n",
       "    </tr>\n",
       "    <tr>\n",
       "      <th>4</th>\n",
       "      <td>4</td>\n",
       "      <td>2021-04-01</td>\n",
       "      <td>03:00 - 03:59</td>\n",
       "      <td>Santolan</td>\n",
       "      <td>NaN</td>\n",
       "      <td>NaN</td>\n",
       "    </tr>\n",
       "    <tr>\n",
       "      <th>...</th>\n",
       "      <td>...</td>\n",
       "      <td>...</td>\n",
       "      <td>...</td>\n",
       "      <td>...</td>\n",
       "      <td>...</td>\n",
       "      <td>...</td>\n",
       "    </tr>\n",
       "    <tr>\n",
       "      <th>9667</th>\n",
       "      <td>9667</td>\n",
       "      <td>2021-05-01</td>\n",
       "      <td>02:00 - 02:59</td>\n",
       "      <td>Guadalupe</td>\n",
       "      <td>NaN</td>\n",
       "      <td>NaN</td>\n",
       "    </tr>\n",
       "    <tr>\n",
       "      <th>9668</th>\n",
       "      <td>9668</td>\n",
       "      <td>2021-05-01</td>\n",
       "      <td>02:00 - 02:59</td>\n",
       "      <td>Buendia</td>\n",
       "      <td>NaN</td>\n",
       "      <td>NaN</td>\n",
       "    </tr>\n",
       "    <tr>\n",
       "      <th>9669</th>\n",
       "      <td>9669</td>\n",
       "      <td>2021-05-01</td>\n",
       "      <td>02:00 - 02:59</td>\n",
       "      <td>Ayala Ave</td>\n",
       "      <td>NaN</td>\n",
       "      <td>NaN</td>\n",
       "    </tr>\n",
       "    <tr>\n",
       "      <th>9670</th>\n",
       "      <td>9670</td>\n",
       "      <td>2021-05-01</td>\n",
       "      <td>02:00 - 02:59</td>\n",
       "      <td>Magallanes</td>\n",
       "      <td>NaN</td>\n",
       "      <td>NaN</td>\n",
       "    </tr>\n",
       "    <tr>\n",
       "      <th>9671</th>\n",
       "      <td>9671</td>\n",
       "      <td>2021-05-01</td>\n",
       "      <td>02:00 - 02:59</td>\n",
       "      <td>Taft</td>\n",
       "      <td>NaN</td>\n",
       "      <td>NaN</td>\n",
       "    </tr>\n",
       "  </tbody>\n",
       "</table>\n",
       "<p>9672 rows × 6 columns</p>\n",
       "</div>"
      ],
      "text/plain": [
       "      Unnamed: 0        Date           Time       Station  Entry  Exit\n",
       "0              0  2021-04-01  03:00 - 03:59     North Ave    NaN   NaN\n",
       "1              1  2021-04-01  03:00 - 03:59    Quezon Ave    NaN   NaN\n",
       "2              2  2021-04-01  03:00 - 03:59  GMA Kamuning    NaN   NaN\n",
       "3              3  2021-04-01  03:00 - 03:59         Cubao    NaN   NaN\n",
       "4              4  2021-04-01  03:00 - 03:59      Santolan    NaN   NaN\n",
       "...          ...         ...            ...           ...    ...   ...\n",
       "9667        9667  2021-05-01  02:00 - 02:59     Guadalupe    NaN   NaN\n",
       "9668        9668  2021-05-01  02:00 - 02:59       Buendia    NaN   NaN\n",
       "9669        9669  2021-05-01  02:00 - 02:59     Ayala Ave    NaN   NaN\n",
       "9670        9670  2021-05-01  02:00 - 02:59    Magallanes    NaN   NaN\n",
       "9671        9671  2021-05-01  02:00 - 02:59          Taft    NaN   NaN\n",
       "\n",
       "[9672 rows x 6 columns]"
      ]
     },
     "execution_count": 4,
     "metadata": {},
     "output_type": "execute_result"
    }
   ],
   "source": [
    "import pandas as pd\n",
    "\n",
    "check = pd.read_csv('Test.csv')\n",
    "check"
   ]
  },
  {
   "cell_type": "markdown",
   "id": "d6d886f1",
   "metadata": {},
   "source": [
    "# Title and Authors"
   ]
  },
  {
   "cell_type": "markdown",
   "id": "aa710a37",
   "metadata": {},
   "source": [
    "# Introduction of Problem\n",
    "\n",
    "Link of Dataset"
   ]
  },
  {
   "cell_type": "markdown",
   "id": "da6ea548",
   "metadata": {},
   "source": [
    "# List of Requirements"
   ]
  },
  {
   "cell_type": "markdown",
   "id": "583c9300",
   "metadata": {},
   "source": [
    "# Exploratory Analysis"
   ]
  },
  {
   "cell_type": "markdown",
   "id": "9351f214",
   "metadata": {},
   "source": [
    "# Data Cleaning and Preprecessing"
   ]
  },
  {
   "cell_type": "markdown",
   "id": "e7d42cb0",
   "metadata": {},
   "source": [
    "# Feature Extraction"
   ]
  },
  {
   "cell_type": "markdown",
   "id": "3b488e2b",
   "metadata": {},
   "source": [
    "# Model Training"
   ]
  },
  {
   "cell_type": "markdown",
   "id": "6c1c0112",
   "metadata": {},
   "source": [
    "# Feature Selection & Hyperparameter Tuning"
   ]
  },
  {
   "cell_type": "markdown",
   "id": "c4eb6316",
   "metadata": {},
   "source": [
    "# Summary of the Best Model Configurat"
   ]
  },
  {
   "cell_type": "code",
   "execution_count": null,
   "id": "c4c94b60",
   "metadata": {},
   "outputs": [],
   "source": []
  }
 ],
 "metadata": {
  "kernelspec": {
   "display_name": "Python 3 (ipykernel)",
   "language": "python",
   "name": "python3"
  },
  "language_info": {
   "codemirror_mode": {
    "name": "ipython",
    "version": 3
   },
   "file_extension": ".py",
   "mimetype": "text/x-python",
   "name": "python",
   "nbconvert_exporter": "python",
   "pygments_lexer": "ipython3",
   "version": "3.10.10"
  }
 },
 "nbformat": 4,
 "nbformat_minor": 5
}
