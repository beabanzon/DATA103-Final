{
 "cells": [
  {
   "cell_type": "markdown",
   "id": "d6d886f1",
   "metadata": {},
   "source": [
    "# Title and Authors"
   ]
  },
  {
   "cell_type": "markdown",
   "id": "aa710a37",
   "metadata": {},
   "source": [
    "# Introduction of Problem\n",
    "\n",
    "Link of Dataset"
   ]
  },
  {
   "cell_type": "markdown",
   "id": "da6ea548",
   "metadata": {},
   "source": [
    "# List of Requirements"
   ]
  },
  {
   "cell_type": "markdown",
   "id": "583c9300",
   "metadata": {},
   "source": [
    "# Exploratory Analysis"
   ]
  },
  {
   "cell_type": "markdown",
   "id": "9351f214",
   "metadata": {},
   "source": [
    "# Data Cleaning and Preprecessing"
   ]
  },
  {
   "cell_type": "markdown",
   "id": "e7d42cb0",
   "metadata": {},
   "source": [
    "# Feature Extraction"
   ]
  },
  {
   "cell_type": "markdown",
   "id": "3b488e2b",
   "metadata": {},
   "source": [
    "# Model Training"
   ]
  },
  {
   "cell_type": "markdown",
   "id": "6c1c0112",
   "metadata": {},
   "source": [
    "# Feature Selection & Hyperparameter Tuning"
   ]
  },
  {
   "cell_type": "markdown",
   "id": "c4eb6316",
   "metadata": {},
   "source": [
    "# Summary of the Best Model Configurat"
   ]
  },
  {
   "cell_type": "code",
   "execution_count": null,
   "id": "c4c94b60",
   "metadata": {},
   "outputs": [],
   "source": []
  }
 ],
 "metadata": {
  "kernelspec": {
   "display_name": "Python 3 (ipykernel)",
   "language": "python",
   "name": "python3"
  },
  "language_info": {
   "codemirror_mode": {
    "name": "ipython",
    "version": 3
   },
   "file_extension": ".py",
   "mimetype": "text/x-python",
   "name": "python",
   "nbconvert_exporter": "python",
   "pygments_lexer": "ipython3",
   "version": "3.9.12"
  }
 },
 "nbformat": 4,
 "nbformat_minor": 5
}
