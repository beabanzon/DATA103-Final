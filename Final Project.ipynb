{
 "cells": [
  {
   "cell_type": "markdown",
   "id": "a67f4abf",
   "metadata": {},
   "source": [
    "# Title and Authors"
   ]
  },
  {
   "cell_type": "markdown",
   "id": "87630533",
   "metadata": {},
   "source": [
    "# Introduction of Problem\n",
    "\n",
    "Link of Dataset"
   ]
  },
  {
   "cell_type": "markdown",
   "id": "b6ff4d2f",
   "metadata": {},
   "source": [
    "# List of Requirements"
   ]
  },
  {
   "cell_type": "markdown",
   "id": "c04390f2",
   "metadata": {},
   "source": [
    "# Exploratory Analysis"
   ]
  },
  {
   "cell_type": "markdown",
   "id": "e589f1db",
   "metadata": {},
   "source": [
    "# Data Cleaning and Preprecessing"
   ]
  },
  {
   "cell_type": "markdown",
   "id": "3076da63",
   "metadata": {},
   "source": [
    "# Feature Extraction"
   ]
  },
  {
   "cell_type": "markdown",
   "id": "179203b6",
   "metadata": {},
   "source": [
    "# Model Training"
   ]
  },
  {
   "cell_type": "markdown",
   "id": "76cb6052",
   "metadata": {},
   "source": [
    "# Feature Selection & Hyperparameter Tuning"
   ]
  },
  {
   "cell_type": "markdown",
   "id": "c55b2238",
   "metadata": {},
   "source": [
    "# Summary of the Best Model Configuration"
   ]
  },
  {
   "cell_type": "markdown",
   "id": "2981a5d5",
   "metadata": {},
   "source": [
    "# Findings and Recommendations"
   ]
  },
  {
   "cell_type": "markdown",
   "id": "58e3549c",
   "metadata": {},
   "source": [
    "# References"
   ]
  },
  {
   "cell_type": "code",
   "execution_count": null,
   "id": "34007381",
   "metadata": {},
   "outputs": [],
   "source": []
  }
 ],
 "metadata": {
  "kernelspec": {
   "display_name": "Python 3 (ipykernel)",
   "language": "python",
   "name": "python3"
  },
  "language_info": {
   "codemirror_mode": {
    "name": "ipython",
    "version": 3
   },
   "file_extension": ".py",
   "mimetype": "text/x-python",
   "name": "python",
   "nbconvert_exporter": "python",
   "pygments_lexer": "ipython3",
   "version": "3.9.12"
  }
 },
 "nbformat": 4,
 "nbformat_minor": 5
}
