{
 "cells": [
  {
   "cell_type": "markdown",
   "id": "3c7e6b34-5e9c-4c8c-a692-d53f1c1a6c72",
   "metadata": {},
   "source": [
    "# Generate the CSVs. \n",
    "DO NOT RUN AGAIN."
   ]
  },
  {
   "cell_type": "code",
   "execution_count": 2,
   "id": "af6f98cf-f50d-486d-ac51-3cdd773794c3",
   "metadata": {},
   "outputs": [],
   "source": [
    "from os import listdir\n",
    "import openpyxl as oxl\n",
    "\n",
    "import pandas as pd\n",
    "import datetime\n",
    "import holidays"
   ]
  },
  {
   "cell_type": "code",
   "execution_count": 3,
   "id": "745b93ee-6fc5-4509-bb1b-d932eb2cb473",
   "metadata": {},
   "outputs": [],
   "source": [
    "PH_HOLIDAYS = holidays.country_holidays('Philippines')"
   ]
  },
  {
   "cell_type": "code",
   "execution_count": 4,
   "id": "a2fb8624-f3d8-497b-9ed1-a5fe36e93280",
   "metadata": {},
   "outputs": [],
   "source": [
    "files = listdir(path=\"MTR Datasets\")"
   ]
  },
  {
   "cell_type": "code",
   "execution_count": 5,
   "id": "c6113f7b-f817-44be-bc3e-d8a36b393fcd",
   "metadata": {},
   "outputs": [],
   "source": [
    "def saveDf(df, year, month):\n",
    "    filePath = 'MTR Parsed/' + str(year) + ('_0' if (month < 10) else '_') + str(month) + ' .csv' \n",
    "    df.to_csv(filePath)"
   ]
  },
  {
   "cell_type": "code",
   "execution_count": 6,
   "id": "f043e069-21a4-4216-bdc3-1abb10edfbdb",
   "metadata": {},
   "outputs": [],
   "source": [
    "def readSheet(workbook):\n",
    "    sheet = workbook['Daily']\n",
    "    STATION_NAMES = ['North Ave', 'Quezon Ave', 'GMA Kamuning', 'Cubao'\t, 'Santolan', 'Ortigas', 'Shaw Blvd', 'Boni Ave', 'Guadalupe', 'Buendia', 'Ayala Ave', 'Magallanes', 'Taft']\n",
    "    \n",
    "    _date = None\n",
    "    \n",
    "    df = pd.DataFrame(columns=['Date', 'Time', 'Station_Name', 'Station_No', 'Entry', 'Exit', 'Net_Traffic', 'Year', 'Month', 'Day', 'Hour', 'Weekday', 'Is_Holiday'])\n",
    "\n",
    "    # READ EACH ROW\n",
    "    for r in range(5, sheet.max_row):\n",
    "        cell = sheet[r][0]\n",
    "\n",
    "        # IGNORE ROWS\n",
    "        if cell.value is None or cell.value == 'TIME':\n",
    "            continue;\n",
    "            \n",
    "        # STORE DATE\n",
    "        if _date is None and cell.is_date:\n",
    "            if cell.value.date().strftime(\"%B\") != MONTH_CHECK:\n",
    "                break;\n",
    "        \n",
    "            _date = cell.value.date()\n",
    "            _year = _date.year\n",
    "            _month = _date.month\n",
    "            _day = _date.day\n",
    "            _weekday = _date.weekday()\n",
    "            _isHoliday = _date in PH_HOLIDAYS\n",
    "    \n",
    "            _hour = 3\n",
    "            print(_date)\n",
    "\n",
    "        \n",
    "        # CLEAR AT END OF RECORD\n",
    "        elif cell.value == 'TOTAL':\n",
    "            _date = None\n",
    "    \n",
    "        # ADD STATION RECORDS TO DATAFRAME\n",
    "        else:\n",
    "            for c in range(1, 26, 2):\n",
    "                _entry = sheet[r][c].value    if sheet[r][c].value is not None      else 0 \n",
    "                _exit = sheet[r][c+1].value   if sheet[r][c+1].value is not None    else 0\n",
    "                _net = _entry + _exit\n",
    "                \n",
    "                df.loc[len(df.index)] = [\n",
    "                    _date,                                   # 'Date', \n",
    "                    cell.value,                              # 'Time', \n",
    "                    STATION_NAMES[c//2],                     # 'Station_Name', \n",
    "                    c//2,                                    # 'Station_No', \n",
    "                    _entry,                                  # 'Entry', \n",
    "                    _exit,                                   # 'Exit', \n",
    "                    _net,                                    # Net Traffic\n",
    "                    _year,                                   # 'Year', \n",
    "                    _month,                                  # 'Month', \n",
    "                    _day,                                    # 'Day', \n",
    "                    _hour,                                   # 'Hour', \n",
    "                    _weekday,                                # 'Weekday', \n",
    "                    _isHoliday                               # 'Is_Holiday'\n",
    "                ]\n",
    "            _hour = 1 + _hour;\n",
    "            _hour = _hour % 24;\n",
    "    saveDf(df, _year, _month);\n",
    "\n",
    "    # return df;"
   ]
  },
  {
   "cell_type": "code",
   "execution_count": 3,
   "id": "7c8447f6-3366-4ef7-8895-7167045cc787",
   "metadata": {
    "collapsed": true,
    "jupyter": {
     "outputs_hidden": true,
     "source_hidden": true
    },
    "scrolled": true
   },
   "outputs": [
    {
     "ename": "AssertionError",
     "evalue": "",
     "output_type": "error",
     "traceback": [
      "\u001b[1;31m---------------------------------------------------------------------------\u001b[0m",
      "\u001b[1;31mAssertionError\u001b[0m                            Traceback (most recent call last)",
      "Cell \u001b[1;32mIn[3], line 4\u001b[0m\n\u001b[0;32m      1\u001b[0m \u001b[38;5;66;03m# for fp in files[18:]:\u001b[39;00m\n\u001b[0;32m      2\u001b[0m \u001b[38;5;66;03m# for fp in files[44:]:\u001b[39;00m\n\u001b[0;32m      3\u001b[0m \u001b[38;5;66;03m# for fp in files[-2:]:\u001b[39;00m\n\u001b[1;32m----> 4\u001b[0m \u001b[38;5;28;01massert\u001b[39;00m \u001b[38;5;28;01mFalse\u001b[39;00m;\n\u001b[0;32m      5\u001b[0m \u001b[38;5;66;03m# DO NOT RUN AGAIN. IT WILL DUPLICATE CSV FILES\u001b[39;00m\n\u001b[0;32m      6\u001b[0m \u001b[38;5;28;01mfor\u001b[39;00m fp \u001b[38;5;129;01min\u001b[39;00m files:\n",
      "\u001b[1;31mAssertionError\u001b[0m: "
     ]
    }
   ],
   "source": [
    "# for fp in files[18:]:\n",
    "# for fp in files[44:]:\n",
    "# for fp in files[-2:]:\n",
    "assert False;\n",
    "# DO NOT RUN AGAIN. IT WILL DUPLICATE CSV FILES\n",
    "for fp in files:\n",
    "    print(fp)\n",
    "    currExcel = \"MTR Datasets/\" + fp; #\"MTR Datasets/APRIL 2021 Summary Hourly.xlsx\"\n",
    "    \n",
    "    MONTH_CHECK = currExcel.split('/')[1].split()[0].capitalize()\n",
    "    \n",
    "    workbook = oxl.load_workbook(currExcel, data_only=True)\n",
    "    \n",
    "    readSheet(workbook)"
   ]
  },
  {
   "cell_type": "code",
   "execution_count": 4,
   "id": "207d08c2-53ff-4128-b867-8fe000fc7ce5",
   "metadata": {
    "collapsed": true,
    "jupyter": {
     "outputs_hidden": true,
     "source_hidden": true
    }
   },
   "outputs": [
    {
     "ename": "AssertionError",
     "evalue": "",
     "output_type": "error",
     "traceback": [
      "\u001b[1;31m---------------------------------------------------------------------------\u001b[0m",
      "\u001b[1;31mAssertionError\u001b[0m                            Traceback (most recent call last)",
      "Cell \u001b[1;32mIn[4], line 4\u001b[0m\n\u001b[0;32m      1\u001b[0m \u001b[38;5;66;03m# files[18:]\u001b[39;00m\n\u001b[0;32m      2\u001b[0m \u001b[38;5;66;03m# files[32]\u001b[39;00m\n\u001b[1;32m----> 4\u001b[0m \u001b[38;5;28;01massert\u001b[39;00m \u001b[38;5;28;01mFalse\u001b[39;00m;\n\u001b[0;32m      5\u001b[0m \u001b[38;5;66;03m# DO NOT RUN AGAIN. IT WILL DUPLICATE CSV FILES\u001b[39;00m\n\u001b[0;32m      7\u001b[0m fp \u001b[38;5;241m=\u001b[39m files[\u001b[38;5;241m43\u001b[39m] \n",
      "\u001b[1;31mAssertionError\u001b[0m: "
     ]
    }
   ],
   "source": [
    "# files[18:]\n",
    "# files[32]\n",
    "\n",
    "assert False;\n",
    "# DO NOT RUN AGAIN. IT WILL DUPLICATE CSV FILES\n",
    "\n",
    "fp = files[43] \n",
    "print(fp)\n",
    "currExcel = \"MTR Datasets/\" + fp; #\"MTR Datasets/APRIL 2021 Summary Hourly.xlsx\"\n",
    "\n",
    "MONTH_CHECK = currExcel.split('/')[1].split()[0].capitalize()\n",
    "\n",
    "workbook = oxl.load_workbook(currExcel, data_only=True, read_only=True)\n",
    "\n",
    "readSheet(workbook)"
   ]
  }
 ],
 "metadata": {
  "kernelspec": {
   "display_name": "Python 3 (ipykernel)",
   "language": "python",
   "name": "python3"
  },
  "language_info": {
   "codemirror_mode": {
    "name": "ipython",
    "version": 3
   },
   "file_extension": ".py",
   "mimetype": "text/x-python",
   "name": "python",
   "nbconvert_exporter": "python",
   "pygments_lexer": "ipython3",
   "version": "3.10.10"
  }
 },
 "nbformat": 4,
 "nbformat_minor": 5
}
